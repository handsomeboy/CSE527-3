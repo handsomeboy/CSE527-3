{
 "cells": [
  {
   "cell_type": "markdown",
   "metadata": {
    "ein.tags": "worksheet-0",
    "slideshow": {
     "slide_type": "-"
    }
   },
   "source": [
    "# CSE527 Homework 3\n",
    "**Due date: 23:59 on 11/06, 2018 (Tuesday)**\n",
    "\n",
    "## Description\n",
    "---\n",
    "In this homework, we will examine the task of scene recognition starting with\n",
    "very simple methods: tiny images and nearest neighbor classification, and then\n",
    "move on to more advanced methods: bags of quantized local features and linear\n",
    "classifiers learned by support vector machines.\n",
    "\n",
    "Bag of words models are a popular technique for image classification inspired by\n",
    "models used in natural language processing. The model ignores or downplays word\n",
    "arrangement (spatial information in the image) and classifies based on a\n",
    "histogram of the frequency of visual words. The visual word \"vocabulary\" is\n",
    "established by clustering a large corpus of local features. See Szeliski chapter\n",
    "14.4.1 for more details on category recognition with quantized features. In\n",
    "addition, 14.3.2 discusses vocabulary creation and 14.1 covers classification\n",
    "techniques.\n",
    "\n",
    "For this homework you will be implementing a basic bag of words model. You will\n",
    "classify scenes into one of 15 categories by training and testing on the 15\n",
    "scene database (introduced in [Lazebnik et al.\n",
    "2006](http://www.di.ens.fr/willow/pdfs/cvpr06b.pdf), although built on top of\n",
    "previously published datasets).\n",
    "[Lazebnik et al. 2006](http://www.di.ens.fr/willow/pdfs/cvpr06b.pdf) is a great\n",
    "paper to read, although we will be implementing the baseline method the paper\n",
    "discusses (equivalent to the zero level pyramid) and not the more sophisticated\n",
    "spatial pyramid. For an excellent survey of\n",
    "pre-deep-learning feature encoding methods for bag of words models, see\n",
    "[Chatfield et al, 2011](http://www.robots.ox.ac.uk/~vgg/research/encoding_eval/).\n",
    "\n",
    "You are required to implement 2 different image representations: tiny images and bags of SIFT features, and 2 different classification techniques: nearest neighbor and linear SVM. There are 3 problems plus a performance report in this homework with a total of 100 points. 1 bonus question with extra 10 points is provided under problem 3. The maximum points you may earn from this homework is 100 + 10 = 110 points. Be sure to read **Submission Guidelines** below. They are important.\n",
    "\n",
    "## Dataset\n",
    "---\n",
    "The starter code trains and tests on 100 images from each category (i.e. 1500\n",
    "training examples total and 1500 test cases total). In a real research paper,\n",
    "one would be expected to test performance on random splits of the data into\n",
    "training and test sets, but the starter code does not do this to ease debugging.\n",
    "Download the dataset\n",
    "[here](https://drive.google.com/a/cs.stonybrook.edu/file/d/0B446EB1iI6_Qc0Q1NTRTajdUVTg/view?usp=sharing). <br>\n",
    "\n",
    "Once downloded, extract it to your root folder Surname_Givenname_SBUID. Under your root folder,\n",
    "there should be a folder named \"data\" (i.e. XXX/Surname_Givenname_SBUID/data) containing the images.\n",
    "**Delete** the data subfolder before submission or the blackboard won't let you do so because\n",
    "of the size. There should be only one .ipynb file under your root folder Surname_Givenname_SBUID.\n",
    "\n",
    "\n",
    "## Starter Code\n",
    "---\n",
    "To make your task a little easier, below we provide some starter code which\n",
    "randomly guesses the category of every test image and achieves about 6.6% accuracy\n",
    "(1 out of 15 guesses is correct)."
   ]
  },
  {
   "cell_type": "code",
   "execution_count": 4,
   "metadata": {
    "autoscroll": false,
    "ein.tags": "worksheet-0",
    "slideshow": {
     "slide_type": "-"
    }
   },
   "outputs": [
    {
     "name": "stdout",
     "output_type": "stream",
     "text": [
      "2.7.15 | packaged by conda-forge | (default, Jul 27 2018, 15:07:58) [MSC v.1500 64 bit (AMD64)]\n"
     ]
    }
   ],
   "source": [
    "import cv2\n",
    "import numpy as np\n",
    "import matplotlib.pyplot as plt\n",
    "import glob\n",
    "import itertools\n",
    "import sys\n",
    "print(sys.version)\n",
    "from sklearn import preprocessing \n",
    "from sklearn import neighbors\n",
    "from sklearn.neighbors import NearestNeighbors\n",
    "from sklearn.cluster import KMeans\n",
    "from sklearn.svm import LinearSVC\n",
    "from sklearn.datasets import make_classification\n"
   ]
  },
  {
   "cell_type": "code",
   "execution_count": 26,
   "metadata": {
    "autoscroll": false,
    "ein.tags": "worksheet-0",
    "scrolled": false,
    "slideshow": {
     "slide_type": "-"
    }
   },
   "outputs": [
    {
     "name": "stdout",
     "output_type": "stream",
     "text": [
      "The accuracy of my dummy model is 6.67%\n"
     ]
    }
   ],
   "source": [
    "class_names = [name[11:] for name in glob.glob('data/train/*')] \n",
    "class_names = dict(zip(xrange(len(class_names)), class_names))\n",
    "\n",
    "def load_dataset(path, num_per_class=-1):\n",
    "    data = []\n",
    "    labels = []\n",
    "    for id, class_name in class_names.iteritems():\n",
    "        img_path_class = glob.glob(path + class_name + '/*.jpg')\n",
    "        if num_per_class > 0:\n",
    "            img_path_class = img_path_class[:num_per_class]  #img_path_calss[0:100]\n",
    "            labels.extend([id]*len(img_path_class)) # labels 0, 0, 0, 0 \n",
    "        for filename in img_path_class:\n",
    "            data.append(cv2.imread(filename, 0))\n",
    "    return data, labels\n",
    "\n",
    "# load training dataset\n",
    "train_data, train_label = load_dataset('data/train/', 100)\n",
    "train_num = len(train_label) # 1500\n",
    "\n",
    "# load testing dataset\n",
    "test_data, test_label = load_dataset('data/test/', 100)\n",
    "test_num = len(test_label) #1500\n",
    "\n",
    "# feature extraction\n",
    "def extract_feat(raw_data):\n",
    "    feat_dim = 1000\n",
    "    feat = np.zeros((len(raw_data), feat_dim), dtype=np.float32)\n",
    "    for i in xrange(feat.shape[0]):\n",
    "        feat[i] = np.reshape(raw_data[i], (raw_data[i].size))[:feat_dim] # dummy implemtation\n",
    "        \n",
    "    return feat\n",
    "\n",
    "train_feat = extract_feat(train_data)\n",
    "test_feat = extract_feat(test_data)\n",
    "\n",
    "# model training: take feature and label, return model\n",
    "def train(X, Y):\n",
    "    return 0 # dummy implementation\n",
    "\n",
    "# prediction: take feature and model, return label\n",
    "def predict(model, x):\n",
    "    return np.random.randint(15) # dummy implementation\n",
    "\n",
    "# evaluation\n",
    "predictions = [-1]*len(test_feat)\n",
    "for i in xrange(test_num):\n",
    "    predictions[i] = predict(None, test_feat[i])\n",
    "    \n",
    "accuracy = sum(np.array(predictions) == test_label) / float(test_num)\n",
    "\n",
    "print \"The accuracy of my dummy model is {:.2f}%\".format(accuracy*100)"
   ]
  },
  {
   "cell_type": "markdown",
   "metadata": {
    "ein.tags": "worksheet-0",
    "slideshow": {
     "slide_type": "-"
    }
   },
   "source": [
    "## Problem 1: Tiny Image Representation + Nearest Neighbor Classifier\n",
    "{25 points} You will start by implementing the tiny image representation and the nearest neighbor classifier. They are easy to understand, easy to implement, and run very quickly for our experimental setup.\n",
    "\n",
    "The \"tiny image\" feature is one of the simplest possible image representations. One simply resizes each image to a small, fixed resolution. You are required to **resize the image to 16x16**. It works slightly better if the tiny image is made to have zero mean and unit length (normalization). This is not a particularly good representation, because it discards all of the high frequency image content and is not especially invariant to spatial or brightness shifts. We are using tiny images simply as a baseline.\n",
    "\n",
    "The nearest neighbor classifier is equally simple to understand. When tasked with classifying a test feature into a particular category, one simply finds the \"nearest\" training example (L2 distance is a sufficient metric) and assigns the label of that nearest training example to the test example. The nearest neighbor classifier has many desirable features — it requires no training, it can learn arbitrarily complex decision boundaries, and it trivially supports multiclass problems. It is quite vulnerable to training noise, though, which can be alleviated by voting based on the K nearest neighbors (but you are not required to do so). Nearest neighbor classifiers also suffer as the feature dimensionality increases, because the classifier has no mechanism to learn which dimensions are irrelevant for the decision.\n",
    "\n",
    "Report your classification accuracy on the test sets and time consumption.\n",
    "\n",
    "**Hints**:\n",
    "- Use [cv2.resize()](https://docs.opencv.org/2.4/modules/imgproc/doc/geometric_transformations.html#resize) to resize the images;\n",
    "- Use [NearestNeighbors in Sklearn](http://scikit-learn.org/stable/modules/neighbors.html) as your nearest neighbor classifier."
   ]
  },
  {
   "cell_type": "code",
   "execution_count": 27,
   "metadata": {},
   "outputs": [
    {
     "name": "stdout",
     "output_type": "stream",
     "text": [
      "the accuracy of  using uniform nearst neighbor is 0.195333333333\n",
      "the accuracy of  using distance nearst neighbor is 0.205333333333\n"
     ]
    }
   ],
   "source": [
    "class_names = [name[11:] for name in glob.glob('data/train/*')] \n",
    "class_names = dict(zip(xrange(len(class_names)), class_names))\n",
    "\n",
    "def load_dataset(path, num_per_class=-1):\n",
    "    data = []\n",
    "    labels = []\n",
    "    for id, class_name in class_names.iteritems():\n",
    "        img_path_class = glob.glob(path + class_name + '/*.jpg')\n",
    "        if num_per_class > 0:\n",
    "            img_path_class = img_path_class[:num_per_class]  \n",
    "            labels.extend([id]*len(img_path_class)) \n",
    "        for filename in img_path_class:\n",
    "            img=cv2.imread(filename,0)\n",
    "            resize_img = cv2.resize(img, (16,16), interpolation=cv2.INTER_CUBIC)\n",
    "            np_img=np.array(resize_img)\n",
    "            mean_image=np.mean(np_img)\n",
    "            var_image=np.var(img,ddof=1)\n",
    "            normalized_one=np_img-mean_image\n",
    "            final_image=np.divide(normalized_one,var_image)\n",
    "            data.append(final_image)   \n",
    "    return data, labels\n",
    "\n",
    "def flat_input (train_data):\n",
    "    flat_train_data=[]\n",
    "    for element in train_data:\n",
    "        flat_element=element.ravel()\n",
    "        flat_train_data.append(flat_element)\n",
    "    X=np.array(flat_train_data)\n",
    "    return X\n",
    "\n",
    "def knearst_neighbor_report():\n",
    "    train_data, train_label = load_dataset('data/train/', 100)\n",
    "    train_num = len(train_label) \n",
    "    test_data, test_label = load_dataset('data/test/', 100)\n",
    "    test_num = len(test_label) \n",
    "    X=flat_input(train_data)\n",
    "    train_labels_np=np.array(train_label)\n",
    "    y=np.transpose(train_labels_np)\n",
    "\n",
    "    test_X=flat_input(test_data)\n",
    "    test_labels_np=np.array(test_label)\n",
    "    test_y=np.transpose(test_labels_np)\n",
    "    \n",
    "    n_neighbors = 15\n",
    "    \n",
    "    for weights in ['uniform', 'distance']:\n",
    "        clf = neighbors.KNeighborsClassifier(n_neighbors, weights=weights)\n",
    "        clf.fit(X, y) \n",
    "        Z = clf.predict(test_X)\n",
    "        accuracy = sum(Z == test_labels_np) / float(test_num)\n",
    "        print(\"the accuracy of  using \"+ weights + \" nearst neighbor is \"+ str(accuracy))\n",
    "        \n",
    "knearst_neighbor_report()"
   ]
  },
  {
   "cell_type": "markdown",
   "metadata": {
    "ein.tags": "worksheet-0",
    "slideshow": {
     "slide_type": "-"
    }
   },
   "source": [
    "## Problem 2: Bag of SIFT Representation + Nearest Neighbor Classifer\n",
    "{35 points}\n",
    "After you have implemented a baseline scene recognition pipeline it is time to\n",
    "move on to a more sophisticated image representation — bags of quantized SIFT\n",
    "features. Before we can represent our training and testing images as bag of\n",
    "feature histograms, we first need to establish a vocabulary of visual words. We\n",
    "will form this vocabulary by sampling many local features from our training set\n",
    "(10's or 100's of thousands) and then cluster them with k-means. The number of\n",
    "k-means clusters is the size of our vocabulary and the size of our features. For\n",
    "example, you might start by clustering many SIFT descriptors into k=50 clusters.\n",
    "This partitions the continuous, 128 dimensional SIFT feature space into 50\n",
    "regions. For any new SIFT feature we observe, we can figure out which region it\n",
    "belongs to as long as we save the centroids of our original clusters. Those\n",
    "centroids are our visual word vocabulary. Because it can be slow to sample and\n",
    "cluster many local features, the starter code saves the cluster centroids and\n",
    "avoids recomputing them on future runs.\n",
    "\n",
    "Now we are ready to represent our training and testing images as histograms of\n",
    "visual words. For each image we will densely sample many SIFT descriptors.\n",
    "Instead of storing hundreds of SIFT descriptors, we simply count how many SIFT\n",
    "descriptors fall into each cluster in our visual word vocabulary. This is done\n",
    "by finding the nearest neighbor k-means centroid for every SIFT feature. Thus,\n",
    "if we have a vocabulary of 50 visual words, and we detect 220 distinct SIFT\n",
    "features in an image, our bag of SIFT representation will be a histogram of 50\n",
    "dimensions where each bin counts how many times a SIFT descriptor was assigned\n",
    "to that cluster. The total of all the bin-counts is 220. The histogram should be\n",
    "normalized so that image size does not dramatically change the bag of features\n",
    "magnitude.\n",
    "\n",
    "**Note**: \n",
    "- Instead of using SIFT to detect invariant keypoints which is time-consuming,\n",
    "  you are recommended to densely sample keypoints in a grid with certain step\n",
    "  size (sampling density) and scale.\n",
    "- There are many design decisions and free parameters for the bag of SIFT\n",
    "  representation (number of clusters, sampling density, sampling scales, SIFT\n",
    "  parameters, etc.) so accuracy might vary from 50% to 60%.\n",
    "- Indicate clearly the parameters you use along with the prediction accuracy\n",
    "  on test set and time consumption.\n",
    "\n",
    "**Hints**:\n",
    "- Use [KMeans in Sklearn](http://scikit-learn.org/stable/modules/generated/sklearn.cluster.KMeans.html)\n",
    "  to do clustering and find the nearest cluster centroid for each SIFT feature;\n",
    "- Use `cv2.xfeatures2d.SIFT_create()` to create a SIFT object;\n",
    "- Use `sift.compute()` to compute SIFT descriptors given densely sampled keypoints\n",
    "  ([cv2.Keypoint](https://docs.opencv.org/3.0-beta/modules/core/doc/basic_structures.html?highlight=keypoint#keypoint))."
   ]
  },
  {
   "cell_type": "code",
   "execution_count": 139,
   "metadata": {
    "autoscroll": false,
    "ein.tags": "worksheet-0",
    "slideshow": {
     "slide_type": "-"
    }
   },
   "outputs": [
    {
     "name": "stdout",
     "output_type": "stream",
     "text": [
      "36221\n",
      "363750\n"
     ]
    }
   ],
   "source": [
    "class_names = [name[11:] for name in glob.glob('data/train/*')] \n",
    "class_names = dict(zip(xrange(len(class_names)), class_names))\n",
    "\n",
    "def load_dataset(path, num_per_class=-1):\n",
    "    data = []\n",
    "    labels = []\n",
    "    row_count=0    \n",
    "    for id, class_name in class_names.iteritems():\n",
    "        img_path_class = glob.glob(path + class_name + '/*.jpg')\n",
    "        if num_per_class > 0:\n",
    "            img_path_class = img_path_class[:num_per_class]  \n",
    "            labels.extend([id]*len(img_path_class)) \n",
    "        for filename in img_path_class:\n",
    "            img=cv2.imread(filename,0)\n",
    "            row_count=row_count+img.shape[0]\n",
    "            data.append(img)  \n",
    "    print(row_count)\n",
    "    return data, labels\n",
    "\n",
    "train_data, train_label = load_dataset('data/train/', 10) # load 10 image/class \n",
    "train_num = len(train_label)\n",
    "test_data, test_label = load_dataset('data/test/', 100)\n",
    "test_num = len(test_label) "
   ]
  },
  {
   "cell_type": "code",
   "execution_count": 140,
   "metadata": {},
   "outputs": [
    {
     "name": "stdout",
     "output_type": "stream",
     "text": [
      "150\n",
      "1500\n"
     ]
    }
   ],
   "source": [
    "print(train_num)\n",
    "print(test_num)"
   ]
  },
  {
   "cell_type": "code",
   "execution_count": 141,
   "metadata": {},
   "outputs": [
    {
     "name": "stdout",
     "output_type": "stream",
     "text": [
      "150\n",
      "[[159 142 114 ...,  56  49  39]\n",
      " [220 234 230 ...,  63  53  46]\n",
      " [220 236 238 ...,  67  59  51]\n",
      " ..., \n",
      " [ 42  36  37 ...,  31  28  23]\n",
      " [ 38  28  38 ...,  26  31  29]\n",
      " [ 41  43  45 ...,  31  34  35]]\n"
     ]
    }
   ],
   "source": [
    "print(len(train_data))\n",
    "print(train_data[0])"
   ]
  },
  {
   "cell_type": "code",
   "execution_count": 119,
   "metadata": {},
   "outputs": [],
   "source": [
    "train_data_image=np.array_split(train_data, 15) # divide to 15 groups each has 10 picture of the \n",
    "# test_data_image=np.array_split(test_data, 15) #divide to 15 groups each has 100 pictures of the group"
   ]
  },
  {
   "cell_type": "code",
   "execution_count": 120,
   "metadata": {},
   "outputs": [
    {
     "name": "stdout",
     "output_type": "stream",
     "text": [
      "<type 'list'>\n",
      "<type 'list'>\n"
     ]
    }
   ],
   "source": [
    "print(type(train_data_image))\n",
    "print(type(test_data))"
   ]
  },
  {
   "cell_type": "code",
   "execution_count": 121,
   "metadata": {},
   "outputs": [
    {
     "name": "stdout",
     "output_type": "stream",
     "text": [
      "15\n",
      "100\n",
      "(100L,)\n"
     ]
    }
   ],
   "source": [
    "print(len(train_data_image))\n",
    "print(len(train_data_image[0])) \n",
    "print(train_data_image[0].shape)"
   ]
  },
  {
   "cell_type": "code",
   "execution_count": 122,
   "metadata": {},
   "outputs": [],
   "source": [
    "def calculate_descriptors_for_Kmeans_train(data):\n",
    "    sift = cv2.xfeatures2d.SIFT_create()\n",
    "    all_descriptors=[]\n",
    "    count=0\n",
    "    for image in data:\n",
    "        kp = sift.detect(image,None)  # key points \n",
    "        kp,des = sift.compute(image,kp) # calculate the descriptors \n",
    "        count=count+des.shape[0]\n",
    "        all_descriptors.append(des)\n",
    "    stack_array=all_descriptors[0]\n",
    "    for i in range(1, len(all_descriptors)):\n",
    "        stack_array=np.concatenate((stack_array, all_descriptors[i]), axis=0)\n",
    "    return stack_array\n",
    "def calculate_descriptors_for_Kmeans_test(data):\n",
    "    sift = cv2.xfeatures2d.SIFT_create()\n",
    "    kp = sift.detect(data,None)  # key points \n",
    "    kp,des = sift.compute(data,kp) # calculate the descriptors \n",
    "    return des"
   ]
  },
  {
   "cell_type": "code",
   "execution_count": 123,
   "metadata": {},
   "outputs": [
    {
     "name": "stdout",
     "output_type": "stream",
     "text": [
      "1500\n"
     ]
    }
   ],
   "source": [
    "print(len(test_data))"
   ]
  },
  {
   "cell_type": "code",
   "execution_count": 124,
   "metadata": {},
   "outputs": [
    {
     "ename": "KeyboardInterrupt",
     "evalue": "",
     "output_type": "error",
     "traceback": [
      "\u001b[1;31m---------------------------------------------------------------------------\u001b[0m",
      "\u001b[1;31mKeyboardInterrupt\u001b[0m                         Traceback (most recent call last)",
      "\u001b[1;32m<ipython-input-124-3216ecf1d422>\u001b[0m in \u001b[0;36m<module>\u001b[1;34m()\u001b[0m\n\u001b[0;32m      1\u001b[0m \u001b[0mtest_data_stack\u001b[0m\u001b[1;33m=\u001b[0m\u001b[1;33m[\u001b[0m\u001b[1;33m]\u001b[0m   \u001b[1;31m# each image\u001b[0m\u001b[1;33m\u001b[0m\u001b[0m\n\u001b[0;32m      2\u001b[0m \u001b[1;32mfor\u001b[0m \u001b[0melements\u001b[0m \u001b[1;32min\u001b[0m \u001b[0mtest_data\u001b[0m\u001b[1;33m:\u001b[0m\u001b[1;33m\u001b[0m\u001b[0m\n\u001b[1;32m----> 3\u001b[1;33m     \u001b[0mtest_data_stack\u001b[0m\u001b[1;33m.\u001b[0m\u001b[0mappend\u001b[0m\u001b[1;33m(\u001b[0m\u001b[0mcalculate_descriptors_for_Kmeans_test\u001b[0m\u001b[1;33m(\u001b[0m\u001b[0melements\u001b[0m\u001b[1;33m)\u001b[0m\u001b[1;33m)\u001b[0m\u001b[1;33m\u001b[0m\u001b[0m\n\u001b[0m",
      "\u001b[1;32m<ipython-input-122-0b30747284b1>\u001b[0m in \u001b[0;36mcalculate_descriptors_for_Kmeans_test\u001b[1;34m(data)\u001b[0m\n\u001b[0;32m     14\u001b[0m \u001b[1;32mdef\u001b[0m \u001b[0mcalculate_descriptors_for_Kmeans_test\u001b[0m\u001b[1;33m(\u001b[0m\u001b[0mdata\u001b[0m\u001b[1;33m)\u001b[0m\u001b[1;33m:\u001b[0m\u001b[1;33m\u001b[0m\u001b[0m\n\u001b[0;32m     15\u001b[0m     \u001b[0msift\u001b[0m \u001b[1;33m=\u001b[0m \u001b[0mcv2\u001b[0m\u001b[1;33m.\u001b[0m\u001b[0mxfeatures2d\u001b[0m\u001b[1;33m.\u001b[0m\u001b[0mSIFT_create\u001b[0m\u001b[1;33m(\u001b[0m\u001b[1;33m)\u001b[0m\u001b[1;33m\u001b[0m\u001b[0m\n\u001b[1;32m---> 16\u001b[1;33m     \u001b[0mkp\u001b[0m \u001b[1;33m=\u001b[0m \u001b[0msift\u001b[0m\u001b[1;33m.\u001b[0m\u001b[0mdetect\u001b[0m\u001b[1;33m(\u001b[0m\u001b[0mdata\u001b[0m\u001b[1;33m,\u001b[0m\u001b[0mNone\u001b[0m\u001b[1;33m)\u001b[0m  \u001b[1;31m# key points\u001b[0m\u001b[1;33m\u001b[0m\u001b[0m\n\u001b[0m\u001b[0;32m     17\u001b[0m     \u001b[0mkp\u001b[0m\u001b[1;33m,\u001b[0m\u001b[0mdes\u001b[0m \u001b[1;33m=\u001b[0m \u001b[0msift\u001b[0m\u001b[1;33m.\u001b[0m\u001b[0mcompute\u001b[0m\u001b[1;33m(\u001b[0m\u001b[0mdata\u001b[0m\u001b[1;33m,\u001b[0m\u001b[0mkp\u001b[0m\u001b[1;33m)\u001b[0m \u001b[1;31m# calculate the descriptors\u001b[0m\u001b[1;33m\u001b[0m\u001b[0m\n\u001b[0;32m     18\u001b[0m     \u001b[1;32mreturn\u001b[0m \u001b[0mdes\u001b[0m\u001b[1;33m\u001b[0m\u001b[0m\n",
      "\u001b[1;31mKeyboardInterrupt\u001b[0m: "
     ]
    }
   ],
   "source": [
    "test_data_stack=[]   # each image \n",
    "for elements in test_data:\n",
    "    test_data_stack.append(calculate_descriptors_for_Kmeans_test(elements))"
   ]
  },
  {
   "cell_type": "code",
   "execution_count": null,
   "metadata": {},
   "outputs": [],
   "source": [
    "print(len(test_data_stack))\n",
    "print(test_data_stack[0].shape)"
   ]
  },
  {
   "cell_type": "code",
   "execution_count": null,
   "metadata": {},
   "outputs": [],
   "source": [
    "train_data_stack=[]\n",
    "for elements in train_data_image:\n",
    "    train_data_stack.append(calculate_descriptors_for_Kmeans_train(elements))"
   ]
  },
  {
   "cell_type": "code",
   "execution_count": null,
   "metadata": {},
   "outputs": [],
   "source": [
    "# for elements in train_data_stack:\n",
    "#     print(elements.shape)"
   ]
  },
  {
   "cell_type": "code",
   "execution_count": null,
   "metadata": {},
   "outputs": [],
   "source": [
    "kmeans_array=[]\n",
    "kmeans_labels=[]\n",
    "kmeans_centers=[]\n",
    "for elements in train_data_stack:\n",
    "    kmeans = KMeans(n_clusters=50, random_state=0).fit(elements)\n",
    "    kmeans_array.append(kmeans)\n",
    "    kmeans_labels.append(kmeans.labels_)\n",
    "    kmeans_centers.append(kmeans.cluster_centers_)    "
   ]
  },
  {
   "cell_type": "code",
   "execution_count": null,
   "metadata": {},
   "outputs": [],
   "source": [
    "print(len(kmeans_array))"
   ]
  },
  {
   "cell_type": "code",
   "execution_count": null,
   "metadata": {},
   "outputs": [],
   "source": [
    "# print(kmeans_labels[0])\n",
    "# print(kmeans_labels[1])"
   ]
  },
  {
   "cell_type": "code",
   "execution_count": null,
   "metadata": {},
   "outputs": [],
   "source": [
    "for kmeans in kmeans_array:\n",
    "    for test_descriptor in test_data_stack:\n",
    "        predict=kmeans.predict(stack_array_test)"
   ]
  },
  {
   "cell_type": "code",
   "execution_count": null,
   "metadata": {},
   "outputs": [],
   "source": [
    "stack_array=calculate_descriptors_for_Kmeans(train_data)"
   ]
  },
  {
   "cell_type": "code",
   "execution_count": null,
   "metadata": {},
   "outputs": [],
   "source": [
    "sift = cv2.xfeatures2d.SIFT_create()\n",
    "kp = sift.detect(test_data[0],None)  # key points \n",
    "kp,des = sift.compute(test_data[0],kp) # calculate the descriptors \n",
    "print(des.shape)"
   ]
  },
  {
   "cell_type": "code",
   "execution_count": null,
   "metadata": {},
   "outputs": [],
   "source": [
    "stack_array_test=calculate_descriptors_for_Kmeans(test_data)"
   ]
  },
  {
   "cell_type": "code",
   "execution_count": null,
   "metadata": {},
   "outputs": [],
   "source": [
    "kmeans = KMeans(n_clusters=50, random_state=0).fit(stack_array)"
   ]
  },
  {
   "cell_type": "code",
   "execution_count": null,
   "metadata": {},
   "outputs": [],
   "source": [
    "print(type(kmeans))\n",
    "print(kmeans)"
   ]
  },
  {
   "cell_type": "code",
   "execution_count": null,
   "metadata": {},
   "outputs": [],
   "source": [
    "test_predict=kmeans.predict(stack_array_test)\n",
    "print(len(test_predict))\n",
    "print(stack_array_test.shape)"
   ]
  },
  {
   "cell_type": "code",
   "execution_count": null,
   "metadata": {},
   "outputs": [],
   "source": [
    "def hist_gen(arr, numPerChunk): \n",
    "    # there are a total of 15 classes with 100 image in each class \n",
    "#     single_image=np.array_split(kmeans.labels_, 1500) # each element is representative of single image\n",
    "    single_image=np.array_split(arr, numPerChunk)\n",
    "#     print(len(single_image))\n",
    "    hist=[]\n",
    "    for elements in single_image:\n",
    "        unique, counts = np.unique(elements, return_counts=True)\n",
    "        hist.append(counts)\n",
    "    return hist"
   ]
  },
  {
   "cell_type": "code",
   "execution_count": null,
   "metadata": {},
   "outputs": [],
   "source": [
    "hist=hist_gen(kmeans.labels_,1500)\n",
    "hist_test=hist_gen(test_predict,1500)"
   ]
  },
  {
   "cell_type": "code",
   "execution_count": 110,
   "metadata": {},
   "outputs": [
    {
     "name": "stdout",
     "output_type": "stream",
     "text": [
      "[ 1  3 21  8  2  9  5  6  8  6  5  3  9  2  9  5  5  5  4  6  5  3  1  5  3\n",
      "  9  4  7  7 16  4  1  2  7  4  2  5  3  3  9  8  2  1  3  4  5  6  1  1  4]\n"
     ]
    }
   ],
   "source": [
    "print(hist[0])\n",
    "test_labels_np=np.array(test_label)"
   ]
  },
  {
   "cell_type": "markdown",
   "metadata": {},
   "source": [
    "# my original method "
   ]
  },
  {
   "cell_type": "code",
   "execution_count": 146,
   "metadata": {},
   "outputs": [
    {
     "name": "stdout",
     "output_type": "stream",
     "text": [
      "36221\n",
      "363750\n"
     ]
    }
   ],
   "source": [
    "class_names = [name[11:] for name in glob.glob('data/train/*')] \n",
    "class_names = dict(zip(xrange(len(class_names)), class_names))\n",
    "\n",
    "def load_dataset(path, num_per_class=-1):\n",
    "    data = []\n",
    "    labels = []\n",
    "    row_count=0    \n",
    "    for id, class_name in class_names.iteritems():\n",
    "        img_path_class = glob.glob(path + class_name + '/*.jpg')\n",
    "        if num_per_class > 0:\n",
    "            img_path_class = img_path_class[:num_per_class]  \n",
    "            labels.extend([id]*len(img_path_class)) \n",
    "        for filename in img_path_class:\n",
    "            img=cv2.imread(filename,0)\n",
    "            row_count=row_count+img.shape[0]\n",
    "            data.append(img)  \n",
    "    print(row_count)\n",
    "    return data, labels\n",
    "\n",
    "train_data, train_label = load_dataset('data/train/', 10) # load 10 image/class \n",
    "train_num = len(train_label)\n",
    "test_data, test_label = load_dataset('data/test/', 100)\n",
    "test_num = len(test_label) "
   ]
  },
  {
   "cell_type": "code",
   "execution_count": 147,
   "metadata": {},
   "outputs": [],
   "source": [
    "def calculate_descriptors_for_Kmeans(data):\n",
    "    sift = cv2.xfeatures2d.SIFT_create()\n",
    "    all_descriptors=[]\n",
    "    count=0\n",
    "    for image in data:\n",
    "        kp = sift.detect(image,None)  # key points \n",
    "        kp,des = sift.compute(image,kp) # calculate the descriptors \n",
    "        count=count+des.shape[0]\n",
    "        all_descriptors.append(des)\n",
    "    stack_array=all_descriptors[0]\n",
    "    for i in range(1, len(all_descriptors)):\n",
    "        stack_array=np.concatenate((stack_array, all_descriptors[i]), axis=0)\n",
    "    return stack_array\n"
   ]
  },
  {
   "cell_type": "code",
   "execution_count": 148,
   "metadata": {},
   "outputs": [],
   "source": [
    "train_data_stack=calculate_descriptors_for_Kmeans(train_data)\n",
    "# test_data_stack=calculate_descriptors_for_Kmeans(test_data)"
   ]
  },
  {
   "cell_type": "code",
   "execution_count": 149,
   "metadata": {},
   "outputs": [],
   "source": [
    "kmeans = KMeans(n_clusters=50, random_state=0).fit(train_data_stack) "
   ]
  },
  {
   "cell_type": "code",
   "execution_count": 150,
   "metadata": {},
   "outputs": [],
   "source": [
    "def calculate_histgram(data):\n",
    "    sift = cv2.xfeatures2d.SIFT_create()\n",
    "    hist=[]\n",
    "    for image in data:\n",
    "        kp = sift.detect(image,None)  # key points \n",
    "        kp,des = sift.compute(image,kp) # calculate the descriptors \n",
    "        cluster_group=np.array(kmeans.predict(des))\n",
    "        unique, counts = np.unique(cluster_group, return_counts=True)\n",
    "        dictionary=dict(zip(unique,counts))        \n",
    "        total_sum=np.sum(counts,dtype=float)        \n",
    "        nor_hist=np.divide(counts, total_sum)\n",
    "        dictionary = dict(zip(unique, nor_hist))\n",
    "        for i in range(0,50):\n",
    "            if (dictionary.has_key(i)==False):\n",
    "                dictionary[i]=0\n",
    "        hist.append(dictionary.values())\n",
    "    return hist\n",
    "        \n",
    "   "
   ]
  },
  {
   "cell_type": "code",
   "execution_count": 151,
   "metadata": {},
   "outputs": [
    {
     "name": "stdout",
     "output_type": "stream",
     "text": [
      "364142\n"
     ]
    }
   ],
   "source": [
    "train_data_all, train_label_all = load_dataset('data/train/', 100) # load 10 image/class \n",
    "train_hist=calculate_histgram(train_data_all)"
   ]
  },
  {
   "cell_type": "code",
   "execution_count": 152,
   "metadata": {},
   "outputs": [],
   "source": [
    "test_hist=calculate_histgram(test_data)"
   ]
  },
  {
   "cell_type": "code",
   "execution_count": 153,
   "metadata": {},
   "outputs": [
    {
     "name": "stdout",
     "output_type": "stream",
     "text": [
      "1500\n",
      "[0.0546875, 0.018229166666666668, 0, 0.0390625, 0.005208333333333333, 0.020833333333333332, 0.013020833333333334, 0.020833333333333332, 0.0390625, 0.03125, 0.010416666666666666, 0.013020833333333334, 0.0234375, 0.015625, 0.013020833333333334, 0.005208333333333333, 0.015625, 0.005208333333333333, 0.026041666666666668, 0.010416666666666666, 0.010416666666666666, 0.013020833333333334, 0.0078125, 0.0546875, 0.044270833333333336, 0.041666666666666664, 0.010416666666666666, 0.018229166666666668, 0.013020833333333334, 0.015625, 0.010416666666666666, 0.013020833333333334, 0.010416666666666666, 0.010416666666666666, 0.018229166666666668, 0.03125, 0.020833333333333332, 0.03125, 0.010416666666666666, 0.0234375, 0.046875, 0.020833333333333332, 0.018229166666666668, 0, 0.010416666666666666, 0.0234375, 0.036458333333333336, 0.026041666666666668, 0.010416666666666666, 0.018229166666666668]\n"
     ]
    }
   ],
   "source": [
    "print(len(test_hist))\n",
    "print(test_hist[0])"
   ]
  },
  {
   "cell_type": "code",
   "execution_count": 154,
   "metadata": {},
   "outputs": [
    {
     "name": "stdout",
     "output_type": "stream",
     "text": [
      "(1500L, 50L)\n",
      "(1500L,)\n",
      "the accuracy of uniform is 0.401333333333\n",
      "the accuracy of distance is 0.409333333333\n"
     ]
    }
   ],
   "source": [
    "test_labels_np=np.array(test_label)\n",
    "n_neighbors=15\n",
    "X=np.array(train_hist)\n",
    "print(X.shape)\n",
    "train_labels_np=np.array(train_label_all)\n",
    "y=np.transpose(train_labels_np)\n",
    "print(y.shape)\n",
    "for weights in ['uniform', 'distance']:\n",
    "    clf = neighbors.KNeighborsClassifier(n_neighbors, weights=weights)\n",
    "    clf.fit(X, y) \n",
    "    Z = clf.predict(test_hist)\n",
    "    accuracy = sum(Z == test_labels_np) / float(test_num)\n",
    "    print(\"the accuracy of \"+ weights + \" is \"+ str(accuracy))\n",
    "        "
   ]
  },
  {
   "cell_type": "markdown",
   "metadata": {
    "ein.tags": "worksheet-0",
    "slideshow": {
     "slide_type": "-"
    }
   },
   "source": [
    "# Problem 3: Bag of SIFT Representation + one-vs-all SVMs\n",
    "{20 points}\n",
    "The last task is to train one-vs-all linear SVMS to operate in the bag of SIFT\n",
    "feature space. Linear classifiers are one of the simplest possible learning\n",
    "models. The feature space is partitioned by a learned hyperplane and test cases\n",
    "are categorized based on which side of that hyperplane they fall on. Despite\n",
    "this model being far less expressive than the nearest neighbor classifier, it\n",
    "will often perform better.\n",
    "\n",
    "You do not have to implement the support vector machine. However, linear\n",
    "classifiers are inherently binary and we have a 15-way classification problem\n",
    "(the library has handled it for you). To decide which of 15 categories a test\n",
    "case belongs to, you will train 15 binary, one-vs-all SVMs. One-vs-all means\n",
    "that each classifier will be trained to recognize 'forest' vs 'non-forest',\n",
    "'kitchen' vs 'non-kitchen', etc. All 15 classifiers will be evaluated on each\n",
    "test case and the classifier which is most confidently positive \"wins\". E.g. if\n",
    "the 'kitchen' classifier returns a score of -0.2 (where 0 is on the decision\n",
    "boundary), and the 'forest' classifier returns a score of -0.3, and all of the\n",
    "other classifiers are even more negative, the test case would be classified as a\n",
    "kitchen even though none of the classifiers put the test case on the positive\n",
    "side of the decision boundary. When learning an SVM, you have a free parameter\n",
    "$\\lambda$ (lambda) which controls how strongly regularized the model is. Your\n",
    "accuracy will be very sensitive to $\\lambda$, so be sure to try many values.\n",
    "\n",
    "Indicate clearly the parameters you use along with the prediction accuracy on\n",
    "test set and time consumption.\n",
    "\n",
    "**Bonus {10 points}**: 10 points will be given to students whose accuracy\n",
    "  ranks top 3 in this homework. Don't cheat and don't train your model on\n",
    "  testing data, a separate testing dataset will be used to evaluate your model.\n",
    "\n",
    "**Hints**:\n",
    "- Use SVM in\n",
    "  [Sklearn](http://scikit-learn.org/stable/modules/classes.html#module-sklearn.svm)\n",
    "  (recommended) or\n",
    "  [OpenCV](https://docs.opencv.org/3.0-alpha/modules/ml/doc/support_vector_machines.html)\n",
    "  to do training and prediction."
   ]
  },
  {
   "cell_type": "code",
   "execution_count": 158,
   "metadata": {},
   "outputs": [
    {
     "name": "stdout",
     "output_type": "stream",
     "text": [
      "the accuracy of distance is 0.421333333333\n"
     ]
    }
   ],
   "source": [
    "test_labels_np=np.array(test_label)\n",
    "X=np.array(train_hist)\n",
    "train_labels_np=np.array(train_label_all)\n",
    "y=np.transpose(train_labels_np)\n",
    "\n",
    "clf = LinearSVC(random_state=0, tol=1e-5)\n",
    "clf.fit(X, y)\n",
    "LinearSVC(C=0.7, class_weight=None, dual=True, fit_intercept=True,\n",
    "     intercept_scaling=1, loss='squared_hinge', max_iter=1000,\n",
    "     multi_class='ovr', penalty='l2', random_state=0, tol=1e-05, verbose=0)\n",
    "Z=clf.predict(test_hist)\n",
    "accuracy = sum(Z == test_labels_np) / float(test_num)\n",
    "print(\"the accuracy of \"+ weights + \" is \"+ str(accuracy))"
   ]
  },
  {
   "cell_type": "markdown",
   "metadata": {
    "ein.tags": "worksheet-0",
    "slideshow": {
     "slide_type": "-"
    }
   },
   "source": [
    "## Performance Report\n",
    "---\n",
    "{20 points}\n",
    "Please report the performance of the following combinations **in the given order**\n",
    "in terms of the time consumed and classification accuracy. Describe your algorithm,\n",
    "any decisions you made to write your algorithm in your particular way, and how\n",
    "different choices you made affect it. Compute and draw a (normalized) [confusion matrix](https://en.wikipedia.org/wiki/Confusion_matrix), and discuss\n",
    "where the method performs best and worse for each of the combination.\n",
    "Here is an [example](http://scikit-learn.org/stable/auto_examples/model_selection/plot_confusion_matrix.html#sphx-glr-auto-examples-model-selection-plot-confusion-matrix-py) of how to compute confusion matrix.\n",
    "\n",
    "\n",
    "1st: Tiny images representation and nearest neighbor classifier (accuracy of about 18-25%).<br>\n",
    "2nd: Bag of SIFT representation and nearest neighbor - classifier (accuracy of about 50-60%). <br>\n",
    "3rd: Bag of SIFT representation and linear SVM classifier (accuracy of about 60-70%). <br>"
   ]
  },
  {
   "cell_type": "code",
   "execution_count": null,
   "metadata": {},
   "outputs": [],
   "source": []
  },
  {
   "cell_type": "markdown",
   "metadata": {},
   "source": [
    "**First combination:** <br>\n",
    "\n",
    "-- Time consumed and prediction accuracy\n",
    "\n",
    "-- Algorithm descriptions and discussions\n",
    "\n",
    "-- Confusion matrix observations\n",
    "\n",
    "**Second combination:** <br>\n",
    "\n",
    "-- Time consumed and prediction accuracy\n",
    "\n",
    "-- Algorithm descriptions and discussions\n",
    "\n",
    "-- Confusion matrix observations\n",
    "\n",
    "**Third combination:** <br>\n",
    "\n",
    "-- Time consumed and prediction accuracy\n",
    "\n",
    "-- Algorithm descriptions and discussions\n",
    "\n",
    "-- Confusion matrix observations"
   ]
  },
  {
   "cell_type": "code",
   "execution_count": null,
   "metadata": {
    "scrolled": false
   },
   "outputs": [],
   "source": [
    "def plot_confusion_matrix(cm, classes,\n",
    "                          normalize=False,\n",
    "                          title='Confusion matrix',\n",
    "                          cmap=plt.cm.Blues):\n",
    "    \"\"\"\n",
    "    This function prints and plots the confusion matrix.\n",
    "    Normalization can be applied by setting `normalize=True`.\n",
    "    \"\"\"\n",
    "\n",
    "c_names = [name[11:] for name in glob.glob('data/train/*')]\n",
    "\n",
    "#First combination:\n",
    "# Confusion matrix\n",
    "cm1 = confusion_matrix(pred1, label1)\n",
    "plt.figure(figsize=(12,12))\n",
    "plot_confusion_matrix(cm1, c_names, normalize=True)\n",
    "plt.show()\n",
    "\n",
    "#Second combination:\n",
    "# Confusion matrix\n",
    "cm2 = confusion_matrix(pred2, label2)\n",
    "plt.figure(figsize=(12,12))\n",
    "plot_confusion_matrix(cm2, c_names, normalize=True)\n",
    "plt.show()\n",
    "\n",
    "#Third combination:\n",
    "# Confusion matrix\n",
    "cm3 = confusion_matrix(pred3, label3)\n",
    "plt.figure(figsize=(12,12))\n",
    "plot_confusion_matrix(cm3, c_names, normalize=True)\n",
    "plt.show()"
   ]
  },
  {
   "cell_type": "markdown",
   "metadata": {},
   "source": [
    "## Submission guidelines\n",
    "---\n",
    "Extract the downloaded .zip file to a folder of your preference. The input and output paths are predefined and **DO NOT** change them. The image read and write functions are already written for you. \n",
    "\n",
    "When submitting your .zip file through blackboard, please <br> \n",
    "-- name your .zip file as Surname_Givenname_SBUID (example: Trump_Donald_11113456). <br>\n",
    "-- DO NOT change the folder structre, please just fill in the blanks. <br>\n",
    "\n",
    "You are encouraged to make posts and answer questions on Piazza. Due to the amount of emails I receive from past years, it is unfortunate that I won't be able to reply all your emails. Please ask questions on Piazza and send emails only when it is private.\n",
    "\n",
    "To encourage you to answer questions on piazza, the three persons answering the most questions will be awarded extra 5 points at the end of the semester.\n",
    "\n",
    "If you alter the folder strucutres, the grading of your homework will be significantly delayed and possibly penalized. And I **WILL NOT** reply to any email regarding this matter.\n",
    "\n",
    "Be aware that your codes will undergo plagiarism checker both vertically and horizontally. Please do your own work.\n",
    "\n",
    "Late submission penalty: <br>\n",
    "There will be a 10% penalty per day for late submission. However, you will have 3 days throughout the whole semester to submit late without penalty. Note that the grace period is calculated by days instead of hours. If you submit the homework one minute after the deadline, one late day will be counted. Likewise, if you submit one minute after the deadline, the 10% penaly will be imposed if not using the grace period. All late penalties incurred will be applied to your scores at the end of the semester.\n",
    "\n",
    "Some important things to note: <br>\n",
    "A correct pipeline for your submitted folder structure: <br>\n",
    "1) Download the .zip file from blackboard and unzip it (e.g. CSE527-HW1-Fall18.zip) <br>\n",
    "2) The unzipped folder should have name like CSE527-HW1-Fall18, rename it to Surname_Givenname_SBUID <br>\n",
    "3) Write your codes in the given .ipynb file <br>\n",
    "4) Save the visual outputs in the .ipynb file <br>\n",
    "5) Rezip your Surname_Givenname_SBUID folder and submit <br>\n",
    "\n",
    "**2 credits will be deducted** from HW2 and onwards if:\n",
    "1) The unzipped folder still have name like CSE527-HW1-Fall18 <br>\n",
    "2) There is a nested folder named CSE527-HW1-Fall18 under your Surname_Givenname_SBUID folder <br>\n",
    "3) You zipped sub-folders and .ipynb directly without providing a root folder called Surname_Givenname_SBUID <br>\n",
    "4) There are more than one .ipynb file under your folder (people who did this didn't receive a score for HW1) <br>\n",
    "5) The naming didn't conform to Surname_Givenname_SBUID <br>\n",
    "6) You didn't save the visual outputs inside your .ipynb file <br>"
   ]
  }
 ],
 "metadata": {
  "anaconda-cloud": {},
  "kernelspec": {
   "display_name": "Python 2",
   "language": "python",
   "name": "python2"
  },
  "language_info": {
   "codemirror_mode": {
    "name": "ipython",
    "version": 2
   },
   "file_extension": ".py",
   "mimetype": "text/x-python",
   "name": "python",
   "nbconvert_exporter": "python",
   "pygments_lexer": "ipython2",
   "version": "2.7.15"
  },
  "name": "HW3.ipynb"
 },
 "nbformat": 4,
 "nbformat_minor": 2
}
